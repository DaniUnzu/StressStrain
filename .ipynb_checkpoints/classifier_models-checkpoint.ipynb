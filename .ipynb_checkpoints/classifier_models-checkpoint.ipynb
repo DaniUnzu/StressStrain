{
 "cells": [
  {
   "cell_type": "code",
   "execution_count": 1,
   "id": "7fe15e6b-c486-4b21-b097-a4bf94ca1d54",
   "metadata": {},
   "outputs": [],
   "source": [
    "import pandas as pd\n",
    "import numpy as np\n",
    "\n",
    "from sklearn.datasets import make_multilabel_classification\n",
    "from sklearn.model_selection import train_test_split\n",
    "from sklearn.multioutput import MultiOutputClassifier\n",
    "from sklearn.linear_model import LogisticRegression\n",
    "from sklearn.metrics import accuracy_score, classification_report\n",
    "from sklearn.ensemble import RandomForestClassifier\n",
    "from sklearn.ensemble import GradientBoostingClassifier\n",
    "from sklearn.preprocessing import MinMaxScaler"
   ]
  },
  {
   "cell_type": "code",
   "execution_count": 2,
   "id": "f2901762-0ba5-41f8-b5d5-ede7aa9e9dfd",
   "metadata": {},
   "outputs": [],
   "source": [
    "df = pd.read_csv(\"Dataset No.1.csv\")"
   ]
  },
  {
   "cell_type": "code",
   "execution_count": 3,
   "id": "e6557292-838a-4b0b-9e14-d742315c9750",
   "metadata": {},
   "outputs": [
    {
     "data": {
      "text/html": [
       "<div>\n",
       "<style scoped>\n",
       "    .dataframe tbody tr th:only-of-type {\n",
       "        vertical-align: middle;\n",
       "    }\n",
       "\n",
       "    .dataframe tbody tr th {\n",
       "        vertical-align: top;\n",
       "    }\n",
       "\n",
       "    .dataframe thead th {\n",
       "        text-align: right;\n",
       "    }\n",
       "</style>\n",
       "<table border=\"1\" class=\"dataframe\">\n",
       "  <thead>\n",
       "    <tr style=\"text-align: right;\">\n",
       "      <th></th>\n",
       "      <th>ASTM Material</th>\n",
       "      <th>C</th>\n",
       "      <th>Mn</th>\n",
       "      <th>Si</th>\n",
       "      <th>P</th>\n",
       "      <th>S</th>\n",
       "      <th>Cr</th>\n",
       "      <th>Mo</th>\n",
       "      <th>Ni</th>\n",
       "      <th>N</th>\n",
       "      <th>...</th>\n",
       "      <th>Sulfuric acid (H2SO4)</th>\n",
       "      <th>Nitric acid (HNO3)</th>\n",
       "      <th>Hydrocloric acid (HCl)</th>\n",
       "      <th>Citric acid(HOC(CH2COOH)2COOH.H2O</th>\n",
       "      <th>KHSO4</th>\n",
       "      <th>KNO3</th>\n",
       "      <th>MgCl2.6H2O</th>\n",
       "      <th>Temperature</th>\n",
       "      <th>Behavior</th>\n",
       "      <th>Pitting_label</th>\n",
       "    </tr>\n",
       "  </thead>\n",
       "  <tbody>\n",
       "    <tr>\n",
       "      <th>0</th>\n",
       "      <td>403</td>\n",
       "      <td>0.15</td>\n",
       "      <td>1.00</td>\n",
       "      <td>0.5</td>\n",
       "      <td>0.040</td>\n",
       "      <td>0.03</td>\n",
       "      <td>11.5</td>\n",
       "      <td>0.0</td>\n",
       "      <td>0.60</td>\n",
       "      <td>0.0</td>\n",
       "      <td>...</td>\n",
       "      <td>0.0</td>\n",
       "      <td>0</td>\n",
       "      <td>0.0</td>\n",
       "      <td>0</td>\n",
       "      <td>0</td>\n",
       "      <td>0</td>\n",
       "      <td>0</td>\n",
       "      <td>20.0</td>\n",
       "      <td>Poor</td>\n",
       "      <td>0</td>\n",
       "    </tr>\n",
       "    <tr>\n",
       "      <th>1</th>\n",
       "      <td>405</td>\n",
       "      <td>0.08</td>\n",
       "      <td>1.00</td>\n",
       "      <td>1.0</td>\n",
       "      <td>0.040</td>\n",
       "      <td>0.03</td>\n",
       "      <td>11.5</td>\n",
       "      <td>0.0</td>\n",
       "      <td>0.60</td>\n",
       "      <td>0.0</td>\n",
       "      <td>...</td>\n",
       "      <td>0.0</td>\n",
       "      <td>0</td>\n",
       "      <td>0.0</td>\n",
       "      <td>0</td>\n",
       "      <td>0</td>\n",
       "      <td>0</td>\n",
       "      <td>0</td>\n",
       "      <td>20.0</td>\n",
       "      <td>Poor</td>\n",
       "      <td>0</td>\n",
       "    </tr>\n",
       "    <tr>\n",
       "      <th>2</th>\n",
       "      <td>S41050</td>\n",
       "      <td>0.04</td>\n",
       "      <td>1.00</td>\n",
       "      <td>1.0</td>\n",
       "      <td>0.045</td>\n",
       "      <td>0.03</td>\n",
       "      <td>10.5</td>\n",
       "      <td>0.0</td>\n",
       "      <td>0.60</td>\n",
       "      <td>0.1</td>\n",
       "      <td>...</td>\n",
       "      <td>0.0</td>\n",
       "      <td>0</td>\n",
       "      <td>0.0</td>\n",
       "      <td>0</td>\n",
       "      <td>0</td>\n",
       "      <td>0</td>\n",
       "      <td>0</td>\n",
       "      <td>20.0</td>\n",
       "      <td>Poor</td>\n",
       "      <td>0</td>\n",
       "    </tr>\n",
       "    <tr>\n",
       "      <th>3</th>\n",
       "      <td>416</td>\n",
       "      <td>0.15</td>\n",
       "      <td>1.25</td>\n",
       "      <td>1.0</td>\n",
       "      <td>0.060</td>\n",
       "      <td>0.35</td>\n",
       "      <td>12.0</td>\n",
       "      <td>0.0</td>\n",
       "      <td>0.00</td>\n",
       "      <td>0.0</td>\n",
       "      <td>...</td>\n",
       "      <td>0.0</td>\n",
       "      <td>0</td>\n",
       "      <td>0.0</td>\n",
       "      <td>0</td>\n",
       "      <td>0</td>\n",
       "      <td>0</td>\n",
       "      <td>0</td>\n",
       "      <td>20.0</td>\n",
       "      <td>Poor</td>\n",
       "      <td>0</td>\n",
       "    </tr>\n",
       "    <tr>\n",
       "      <th>4</th>\n",
       "      <td>410</td>\n",
       "      <td>0.15</td>\n",
       "      <td>1.00</td>\n",
       "      <td>1.0</td>\n",
       "      <td>0.040</td>\n",
       "      <td>0.03</td>\n",
       "      <td>11.5</td>\n",
       "      <td>0.0</td>\n",
       "      <td>0.75</td>\n",
       "      <td>0.0</td>\n",
       "      <td>...</td>\n",
       "      <td>0.0</td>\n",
       "      <td>0</td>\n",
       "      <td>0.0</td>\n",
       "      <td>0</td>\n",
       "      <td>0</td>\n",
       "      <td>0</td>\n",
       "      <td>0</td>\n",
       "      <td>20.0</td>\n",
       "      <td>Poor</td>\n",
       "      <td>0</td>\n",
       "    </tr>\n",
       "  </tbody>\n",
       "</table>\n",
       "<p>5 rows × 31 columns</p>\n",
       "</div>"
      ],
      "text/plain": [
       "  ASTM Material     C    Mn   Si      P     S    Cr   Mo    Ni    N  ...  \\\n",
       "0           403  0.15  1.00  0.5  0.040  0.03  11.5  0.0  0.60  0.0  ...   \n",
       "1           405  0.08  1.00  1.0  0.040  0.03  11.5  0.0  0.60  0.0  ...   \n",
       "2        S41050  0.04  1.00  1.0  0.045  0.03  10.5  0.0  0.60  0.1  ...   \n",
       "3           416  0.15  1.25  1.0  0.060  0.35  12.0  0.0  0.00  0.0  ...   \n",
       "4           410  0.15  1.00  1.0  0.040  0.03  11.5  0.0  0.75  0.0  ...   \n",
       "\n",
       "   Sulfuric acid (H2SO4)  Nitric acid (HNO3)  Hydrocloric acid (HCl)  \\\n",
       "0                    0.0                   0                     0.0   \n",
       "1                    0.0                   0                     0.0   \n",
       "2                    0.0                   0                     0.0   \n",
       "3                    0.0                   0                     0.0   \n",
       "4                    0.0                   0                     0.0   \n",
       "\n",
       "   Citric acid(HOC(CH2COOH)2COOH.H2O  KHSO4  KNO3  MgCl2.6H2O  Temperature  \\\n",
       "0                                  0      0     0           0         20.0   \n",
       "1                                  0      0     0           0         20.0   \n",
       "2                                  0      0     0           0         20.0   \n",
       "3                                  0      0     0           0         20.0   \n",
       "4                                  0      0     0           0         20.0   \n",
       "\n",
       "   Behavior  Pitting_label  \n",
       "0      Poor              0  \n",
       "1      Poor              0  \n",
       "2      Poor              0  \n",
       "3      Poor              0  \n",
       "4      Poor              0  \n",
       "\n",
       "[5 rows x 31 columns]"
      ]
     },
     "execution_count": 3,
     "metadata": {},
     "output_type": "execute_result"
    }
   ],
   "source": [
    "df.head()"
   ]
  },
  {
   "cell_type": "code",
   "execution_count": 4,
   "id": "d7882bfe-45f0-4fcf-88dc-f000f8f97b83",
   "metadata": {},
   "outputs": [],
   "source": [
    "df = df.drop(\"ASTM Material\", axis = 1)"
   ]
  },
  {
   "cell_type": "code",
   "execution_count": 5,
   "id": "317f3d68-8ca5-4a18-923f-698afd4ac294",
   "metadata": {},
   "outputs": [
    {
     "data": {
      "text/plain": [
       "array(['Poor', 'Good', 'Resistant', 'Severe'], dtype=object)"
      ]
     },
     "execution_count": 5,
     "metadata": {},
     "output_type": "execute_result"
    }
   ],
   "source": [
    "df[\"Behavior\"].unique()"
   ]
  },
  {
   "cell_type": "code",
   "execution_count": 6,
   "id": "1e17afc3-bce5-4452-abc3-1fe8c6b7e3b7",
   "metadata": {
    "tags": []
   },
   "outputs": [
    {
     "data": {
      "text/plain": [
       "C                                    0\n",
       "Mn                                   0\n",
       "Si                                   0\n",
       "P                                    0\n",
       "S                                    0\n",
       "Cr                                   0\n",
       "Mo                                   0\n",
       "Ni                                   0\n",
       "N                                    0\n",
       "Ti                                   0\n",
       "Nb                                   0\n",
       "Al                                   0\n",
       "Fe balance (%)                       0\n",
       "Formic acid (HCOOH)                  0\n",
       "Ammonium chloride(NH4Cl)             0\n",
       "Acetic acid(CH3COOH)                 0\n",
       "Potasium Hydroxide (KOH)             0\n",
       "Lactic acid                          0\n",
       "oxalic acid (COOH)2.2H2O             0\n",
       "Phosphric acid (H3PO4)               0\n",
       "Sulfuric acid (H2SO4)                0\n",
       "Nitric acid (HNO3)                   0\n",
       "Hydrocloric acid (HCl)               0\n",
       "Citric acid(HOC(CH2COOH)2COOH.H2O    0\n",
       "KHSO4                                0\n",
       "KNO3                                 0\n",
       "MgCl2.6H2O                           0\n",
       "Temperature                          0\n",
       "Behavior                             0\n",
       "Pitting_label                        0\n",
       "dtype: int64"
      ]
     },
     "execution_count": 6,
     "metadata": {},
     "output_type": "execute_result"
    }
   ],
   "source": [
    "df.isna().sum()"
   ]
  },
  {
   "cell_type": "code",
   "execution_count": 7,
   "id": "1c77b111-bce4-413d-9ed8-c9916f6ba220",
   "metadata": {},
   "outputs": [],
   "source": [
    "def preprocess_data(df):\n",
    "    \n",
    "    # Separate features and target variable\n",
    "    X = df.drop('Behavior', axis=1)\n",
    "    y = df['Behavior']\n",
    "    \n",
    "    # One-hot encode the \"Behavior\" column\n",
    "    y = pd.get_dummies(y, columns=['Behavior'])\n",
    "    print(y.columns)\n",
    "    \n",
    "    # Min-max scale numerical features\n",
    "    scaler = MinMaxScaler()\n",
    "    X_scaled = scaler.fit_transform(X)\n",
    "    \n",
    "    return X_scaled, y\n"
   ]
  },
  {
   "cell_type": "code",
   "execution_count": 8,
   "id": "32d0947a-c63a-4861-ac0b-a1a796b24f70",
   "metadata": {},
   "outputs": [
    {
     "name": "stdout",
     "output_type": "stream",
     "text": [
      "Index(['Good', 'Poor', 'Resistant', 'Severe'], dtype='object')\n"
     ]
    }
   ],
   "source": [
    "# Assuming df is your DataFrame\n",
    "X_scaled, y = preprocess_data(df)\n",
    "\n",
    "# Split the data into training and testing sets\n",
    "X_train, X_test, y_train, y_test = train_test_split(X_scaled, y, test_size=0.2, random_state=42)\n",
    "\n"
   ]
  },
  {
   "cell_type": "code",
   "execution_count": 9,
   "id": "1f1a1c8d-44b3-430a-962f-fc70a25c8944",
   "metadata": {},
   "outputs": [],
   "source": [
    "def train_classifier(X_train, y_train, model):\n",
    "    model = MultiOutputClassifier(model)\n",
    "    model.fit(X_train, y_train)\n",
    "    return model.predict(X_test)\n"
   ]
  },
  {
   "cell_type": "code",
   "execution_count": 10,
   "id": "11f35919-0782-4f3c-8b1c-aba4d61ba0dd",
   "metadata": {},
   "outputs": [
    {
     "name": "stdout",
     "output_type": "stream",
     "text": [
      "              precision    recall  f1-score   support\n",
      "\n",
      "           0       0.00      0.00      0.00       150\n",
      "           1       0.00      0.00      0.00       141\n",
      "           2       0.77      0.63      0.69       247\n",
      "           3       0.79      0.65      0.71       266\n",
      "\n",
      "   micro avg       0.77      0.41      0.53       804\n",
      "   macro avg       0.39      0.32      0.35       804\n",
      "weighted avg       0.50      0.41      0.45       804\n",
      " samples avg       0.40      0.41      0.41       804\n",
      "\n"
     ]
    },
    {
     "name": "stderr",
     "output_type": "stream",
     "text": [
      "C:\\Users\\DIEGO UNZUETA\\anaconda3\\lib\\site-packages\\sklearn\\metrics\\_classification.py:1327: UndefinedMetricWarning: Precision and F-score are ill-defined and being set to 0.0 in labels with no predicted samples. Use `zero_division` parameter to control this behavior.\n",
      "  _warn_prf(average, modifier, msg_start, len(result))\n",
      "C:\\Users\\DIEGO UNZUETA\\anaconda3\\lib\\site-packages\\sklearn\\metrics\\_classification.py:1327: UndefinedMetricWarning: Precision and F-score are ill-defined and being set to 0.0 in samples with no predicted labels. Use `zero_division` parameter to control this behavior.\n",
      "  _warn_prf(average, modifier, msg_start, len(result))\n"
     ]
    }
   ],
   "source": [
    "model = LogisticRegression()\n",
    "\n",
    "y_pred = train_classifier(X_train, y_train, model)\n",
    "\n",
    "print(classification_report(y_test, y_pred))"
   ]
  },
  {
   "cell_type": "code",
   "execution_count": 11,
   "id": "c450d3cc-bc57-49f4-92b6-ec26d2881580",
   "metadata": {},
   "outputs": [
    {
     "name": "stdout",
     "output_type": "stream",
     "text": [
      "              precision    recall  f1-score   support\n",
      "\n",
      "           0       0.82      0.53      0.64       150\n",
      "           1       0.79      0.67      0.73       141\n",
      "           2       0.91      0.97      0.94       247\n",
      "           3       0.94      0.88      0.91       266\n",
      "\n",
      "   micro avg       0.89      0.81      0.85       804\n",
      "   macro avg       0.87      0.76      0.80       804\n",
      "weighted avg       0.88      0.81      0.84       804\n",
      " samples avg       0.80      0.81      0.80       804\n",
      "\n"
     ]
    },
    {
     "name": "stderr",
     "output_type": "stream",
     "text": [
      "C:\\Users\\DIEGO UNZUETA\\anaconda3\\lib\\site-packages\\sklearn\\metrics\\_classification.py:1327: UndefinedMetricWarning: Precision and F-score are ill-defined and being set to 0.0 in samples with no predicted labels. Use `zero_division` parameter to control this behavior.\n",
      "  _warn_prf(average, modifier, msg_start, len(result))\n"
     ]
    }
   ],
   "source": [
    "model = RandomForestClassifier(n_estimators=400)\n",
    "\n",
    "y_pred = train_classifier(X_train, y_train, model)\n",
    "\n",
    "print(classification_report(y_test, y_pred))"
   ]
  },
  {
   "cell_type": "code",
   "execution_count": 12,
   "id": "839a4c60-978c-43a6-8342-4eb989119876",
   "metadata": {},
   "outputs": [
    {
     "name": "stdout",
     "output_type": "stream",
     "text": [
      "              precision    recall  f1-score   support\n",
      "\n",
      "           0       0.85      0.57      0.69       150\n",
      "           1       0.74      0.63      0.68       141\n",
      "           2       0.99      0.98      0.99       247\n",
      "           3       0.99      0.97      0.98       266\n",
      "\n",
      "   micro avg       0.93      0.84      0.88       804\n",
      "   macro avg       0.89      0.79      0.83       804\n",
      "weighted avg       0.92      0.84      0.87       804\n",
      " samples avg       0.83      0.84      0.83       804\n",
      "\n"
     ]
    },
    {
     "name": "stderr",
     "output_type": "stream",
     "text": [
      "C:\\Users\\DIEGO UNZUETA\\anaconda3\\lib\\site-packages\\sklearn\\metrics\\_classification.py:1327: UndefinedMetricWarning: Precision and F-score are ill-defined and being set to 0.0 in samples with no predicted labels. Use `zero_division` parameter to control this behavior.\n",
      "  _warn_prf(average, modifier, msg_start, len(result))\n"
     ]
    }
   ],
   "source": [
    "model = GradientBoostingClassifier(n_estimators = 400)\n",
    "\n",
    "y_pred = train_classifier(X_train, y_train, model)\n",
    "\n",
    "print(classification_report(y_test, y_pred))"
   ]
  },
  {
   "cell_type": "code",
   "execution_count": null,
   "id": "f3957d33-f395-4f44-bebc-0b445f7463cd",
   "metadata": {},
   "outputs": [],
   "source": []
  }
 ],
 "metadata": {
  "kernelspec": {
   "display_name": "Python 3 (ipykernel)",
   "language": "python",
   "name": "python3"
  },
  "language_info": {
   "codemirror_mode": {
    "name": "ipython",
    "version": 3
   },
   "file_extension": ".py",
   "mimetype": "text/x-python",
   "name": "python",
   "nbconvert_exporter": "python",
   "pygments_lexer": "ipython3",
   "version": "3.8.12"
  }
 },
 "nbformat": 4,
 "nbformat_minor": 5
}
